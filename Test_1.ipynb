{
  "nbformat": 4,
  "nbformat_minor": 0,
  "metadata": {
    "kernelspec": {
      "display_name": "Python 3",
      "language": "python",
      "name": "python3"
    },
    "language_info": {
      "codemirror_mode": {
        "name": "ipython",
        "version": 3
      },
      "file_extension": ".py",
      "mimetype": "text/x-python",
      "name": "python",
      "nbconvert_exporter": "python",
      "pygments_lexer": "ipython3",
      "version": "3.7.4"
    },
    "colab": {
      "name": "Test 1.ipynb",
      "provenance": []
    }
  },
  "cells": [
    {
      "cell_type": "markdown",
      "metadata": {
        "id": "RcwOqYVWhrVf",
        "colab_type": "text"
      },
      "source": [
        "# Practice Assessment\n",
        "This is your first assessment. Although it is for practice only, you must go through each question and ensure you can  run your Python code in the notebook. \n",
        "\n",
        "It is important that you are able to save your completed notebook into a repo in your GitHub account. And you must be able to email a copy of your uploaded file to james.connolly@lyit.ie "
      ]
    },
    {
      "cell_type": "markdown",
      "metadata": {
        "id": "e0QlncHchrVk",
        "colab_type": "text"
      },
      "source": [
        "## Q1\n",
        "Using an f-string, display this Einstein quote exactly as you see it. \n",
        "\n",
        "Anyone who has never made a mistake <br>\n",
        "         has never tried anything new."
      ]
    },
    {
      "cell_type": "code",
      "metadata": {
        "id": "1MTM2ZE4hrVm",
        "colab_type": "code",
        "colab": {
          "base_uri": "https://localhost:8080/",
          "height": 51
        },
        "outputId": "74867ac8-40d3-4a8f-f596-ceec48afc19c"
      },
      "source": [
        "## Q1\n",
        "Einstein_quote=\"Anyone who has never made a mistake \\n \thas never tried anything new.\"\n",
        "print(\"{}\".format(Einstein_quote))"
      ],
      "execution_count": 3,
      "outputs": [
        {
          "output_type": "stream",
          "text": [
            "Anyone who has never made a mistake \n",
            " \thas never tried anything new.\n"
          ],
          "name": "stdout"
        }
      ]
    },
    {
      "cell_type": "markdown",
      "metadata": {
        "id": "688H18wChrVr",
        "colab_type": "text"
      },
      "source": [
        "### Q2 \n",
        "Using an f-string and the variables provided, display this message\n",
        "\n",
        "`Letterkenny Institute of Technology can be abbreviated to (LYIT).`"
      ]
    },
    {
      "cell_type": "code",
      "metadata": {
        "id": "6_zROuH9hrVs",
        "colab_type": "code",
        "colab": {
          "base_uri": "https://localhost:8080/",
          "height": 34
        },
        "outputId": "601f8cfc-c2b6-416c-a601-a570208207f3"
      },
      "source": [
        "LYIT_name = \"Letterkenny Institute of Technology\"\n",
        "acronym = \"LYIT\"\n",
        "\n",
        "# Enter your code here\n",
        "print(LYIT_name,'({})'.format(acronym))"
      ],
      "execution_count": 4,
      "outputs": [
        {
          "output_type": "stream",
          "text": [
            "Letterkenny Institute of Technology (LYIT)\n"
          ],
          "name": "stdout"
        }
      ]
    },
    {
      "cell_type": "markdown",
      "metadata": {
        "id": "LZ9R31-ShrVv",
        "colab_type": "text"
      },
      "source": [
        "### Q3\n",
        "Write a Python program to display the current date and time.\n",
        "\n",
        "Sample output:\n",
        "`2020-01-10 18:31:21.076466`"
      ]
    },
    {
      "cell_type": "code",
      "metadata": {
        "id": "UbLUVCD1hrVw",
        "colab_type": "code",
        "colab": {
          "base_uri": "https://localhost:8080/",
          "height": 299
        },
        "outputId": "af1f6dca-c3da-4ff5-f63b-c5c7b8fe35e9"
      },
      "source": [
        "import datatime as dt\n"
      ],
      "execution_count": 5,
      "outputs": [
        {
          "output_type": "error",
          "ename": "ModuleNotFoundError",
          "evalue": "ignored",
          "traceback": [
            "\u001b[0;31m---------------------------------------------------------------------------\u001b[0m",
            "\u001b[0;31mModuleNotFoundError\u001b[0m                       Traceback (most recent call last)",
            "\u001b[0;32m<ipython-input-5-512e8db3711e>\u001b[0m in \u001b[0;36m<module>\u001b[0;34m()\u001b[0m\n\u001b[0;32m----> 1\u001b[0;31m \u001b[0;32mimport\u001b[0m \u001b[0mdatatime\u001b[0m \u001b[0;32mas\u001b[0m \u001b[0mdt\u001b[0m\u001b[0;34m\u001b[0m\u001b[0;34m\u001b[0m\u001b[0m\n\u001b[0m",
            "\u001b[0;31mModuleNotFoundError\u001b[0m: No module named 'datatime'",
            "",
            "\u001b[0;31m---------------------------------------------------------------------------\u001b[0;32m\nNOTE: If your import is failing due to a missing package, you can\nmanually install dependencies using either !pip or !apt.\n\nTo view examples of installing some common dependencies, click the\n\"Open Examples\" button below.\n\u001b[0;31m---------------------------------------------------------------------------\u001b[0m\n"
          ]
        }
      ]
    },
    {
      "cell_type": "markdown",
      "metadata": {
        "id": "j72Ny-ZKhrVz",
        "colab_type": "text"
      },
      "source": [
        "### Q4\n",
        "Write a Python program to ask the user to input their first name and DOB. Then calculate the number of days they have been alive.\n",
        "\n",
        "Display a message to the user with an f-string using this format `James, you are 40 years old`.\n",
        "\n",
        "Use the following code and then add your code."
      ]
    },
    {
      "cell_type": "code",
      "metadata": {
        "id": "0f-mZiHchrV0",
        "colab_type": "code",
        "colab": {
          "base_uri": "https://localhost:8080/",
          "height": 119
        },
        "outputId": "b5804590-e45e-4d67-aee4-fc844c1dfaa7"
      },
      "source": [
        "import datetime as dt\n",
        "\n",
        "first_name = input(\"Please enter your first name : \")\n",
        "print(\"Please enter your DOB as integer values\")\n",
        "year = int(input(\"Enter year : \"))\n",
        "month = int(input(\"Enter month : \"))\n",
        "day = int(input(\"Enter day : \"))\n",
        "\n",
        "# Enter your code here\n",
        "birthday=dt.date(year,month,day)\n",
        "today=dt.date.today()\n",
        "age=(today - birthday)\n",
        "days_old=age.days\n",
        "years_old=days_old//365\n",
        "print(f\"{first_name}, you are {years_old} years old.\")\n"
      ],
      "execution_count": 10,
      "outputs": [
        {
          "output_type": "stream",
          "text": [
            "Please enter your first name : James\n",
            "Please enter your DOB as integer values\n",
            "Enter year : 1979\n",
            "Enter month : 1\n",
            "Enter day : 1\n",
            "James, you are 41 years old.\n"
          ],
          "name": "stdout"
        }
      ]
    },
    {
      "cell_type": "markdown",
      "metadata": {
        "id": "9CyskkO8hrV3",
        "colab_type": "text"
      },
      "source": [
        "### Q5\n",
        "Enter 2 numbers. If both numbers add up to a number between 50 to 60 then print a message stating `not accepted`, otherwise show a message `accepted`. \n",
        "\n",
        "Hint: Use the `sum in range` command to check whether your number is within a specific rang or not."
      ]
    },
    {
      "cell_type": "code",
      "metadata": {
        "scrolled": true,
        "id": "vlSKlrH_hrV4",
        "colab_type": "code",
        "colab": {},
        "outputId": "b7cba378-c778-4970-e24c-bb7a8f6bddf3"
      },
      "source": [
        "number1 = int(input(\"Please enter number 1 : \"))\n",
        "number2 = int(input(\"Please enter number 2 : \"))\n",
        "sum = number1 + number2\n",
        "\n",
        "# Enter your code here\n"
      ],
      "execution_count": 0,
      "outputs": [
        {
          "output_type": "stream",
          "text": [
            "Please enter number 1 : 20\n",
            "Please enter number 2 : 30\n",
            "not accepted\n"
          ],
          "name": "stdout"
        }
      ]
    },
    {
      "cell_type": "markdown",
      "metadata": {
        "id": "QvZtHOmthrV8",
        "colab_type": "text"
      },
      "source": [
        "### Q6\n",
        "Write a Python program to calculate the hypotenuse of a right angled triangle.\n",
        "\n",
        "Hint : hytothenuse = square root of 2 shortest sides squared"
      ]
    },
    {
      "cell_type": "code",
      "metadata": {
        "id": "CwUyN1HqhrV9",
        "colab_type": "code",
        "colab": {},
        "outputId": "156297d5-18ae-46a8-d1a6-66980c57f235"
      },
      "source": [
        "from math import sqrt\n",
        "print(\"Input lengths of shorter triangle sides : \")\n",
        "a = float(input(\" side a: \"))\n",
        "b = float(input(\" side b: \"))\n",
        "\n"
      ],
      "execution_count": 0,
      "outputs": [
        {
          "output_type": "stream",
          "text": [
            "Input lengths of shorter triangle sides : \n",
            " side a: 4\n",
            " side b: 5\n",
            "The length of the hypotenuse is 6.4031242374328485 \n"
          ],
          "name": "stdout"
        }
      ]
    },
    {
      "cell_type": "markdown",
      "metadata": {
        "id": "0ehfZAtzhrV_",
        "colab_type": "text"
      },
      "source": [
        "### Q7\n",
        "Use PyPDF2 to open the file **A_Midsummer_Night**. Extract the text of page 22 from this pdf. Print the contents of it."
      ]
    },
    {
      "cell_type": "code",
      "metadata": {
        "id": "mfAuKP5ThrWA",
        "colab_type": "code",
        "colab": {},
        "outputId": "5b323cbe-1b2b-45ec-99f0-7f472f02a237"
      },
      "source": [
        "import PyPDF2\n",
        "\n",
        "my_pdf_file = open(\"A_Midsummer_Night.pdf\", mode=\"rb\")\n",
        "\n"
      ],
      "execution_count": 0,
      "outputs": [
        {
          "output_type": "stream",
          "text": [
            "Exit\n",
            " HERMIA\n",
            "  [Awaking] Help me, Lysander, help me! do thy best \n",
            "\n",
            "To pluck this crawling serpent from my breast! \n",
            "\n",
            "Ay me, for pity! what a dream was here! \n",
            "\n",
            "Lysander, look how I do quake with fear: \n",
            "\n",
            "Methought a serpent eat my heart away, \n",
            "\n",
            "And you sat smiling at his cruel pray. \n",
            "Lysander! what, removed? Lysander! lord! \n",
            "What, out of hearing? gone? no sound, no word? \n",
            "\n",
            "Alack, where are you speak, an if you hear; \n",
            "\n",
            "Speak, of all loves! I swoon almost with fear. \n",
            "\n",
            "No? then I well perceive you all not nigh \n",
            "\n",
            "Either death or you I'll find immediately. \n",
            "Exit\n",
            " \n"
          ],
          "name": "stdout"
        },
        {
          "output_type": "stream",
          "text": [
            "PdfReadWarning: Xref table not zero-indexed. ID numbers for objects will be corrected. [pdf.py:1736]\n"
          ],
          "name": "stderr"
        }
      ]
    },
    {
      "cell_type": "markdown",
      "metadata": {
        "id": "LVL0KwDPhrWE",
        "colab_type": "text"
      },
      "source": [
        "### Q8\n",
        "Open a new file called **OnePage.txt** and add the text you extracted from page 22 from the pdf file **A Midsummer Night** into the file **OnePage.txt**."
      ]
    },
    {
      "cell_type": "code",
      "metadata": {
        "id": "70NJPsiqhrWF",
        "colab_type": "code",
        "colab": {},
        "outputId": "ebd90b92-49b7-449d-db79-c29729b2ddb8"
      },
      "source": [
        ""
      ],
      "execution_count": 0,
      "outputs": [
        {
          "output_type": "stream",
          "text": [
            "Exit\n",
            " HERMIA\n",
            "  [Awaking] Help me, Lysander, help me! do thy best \n",
            "\n",
            "To pluck this crawling serpent from my breast! \n",
            "\n",
            "Ay me, for pity! what a dream was here! \n",
            "\n",
            "Lysander, look how I do quake with fear: \n",
            "\n",
            "Methought a serpent eat my heart away, \n",
            "\n",
            "And you sat smiling at his cruel pray. \n",
            "Lysander! what, removed? Lysander! lord! \n",
            "What, out of hearing? gone? no sound, no word? \n",
            "\n",
            "Alack, where are you speak, an if you hear; \n",
            "\n",
            "Speak, of all loves! I swoon almost with fear. \n",
            "\n",
            "No? then I well perceive you all not nigh \n",
            "\n",
            "Either death or you I'll find immediately. \n",
            "Exit\n",
            " Exit\n",
            " HERMIA\n",
            "  [Awaking] Help me, Lysander, help me! do thy best \n",
            "\n",
            "To pluck this crawling serpent from my breast! \n",
            "\n",
            "Ay me, for pity! what a dream was here! \n",
            "\n",
            "Lysander, look how I do quake with fear: \n",
            "\n",
            "Methought a serpent eat my heart away, \n",
            "\n",
            "And you sat smiling at his cruel pray. \n",
            "Lysander! what, removed? Lysander! lord! \n",
            "What, out of hearing? gone? no sound, no word? \n",
            "\n",
            "Alack, where are you speak, an if you hear; \n",
            "\n",
            "Speak, of all loves! I swoon almost with fear. \n",
            "\n",
            "No? then I well perceive you all not nigh \n",
            "\n",
            "Either death or you I'll find immediately. \n",
            "Exit\n",
            " \n"
          ],
          "name": "stdout"
        }
      ]
    },
    {
      "cell_type": "markdown",
      "metadata": {
        "id": "fPv8VBEQhrWH",
        "colab_type": "text"
      },
      "source": [
        "### Q9\n",
        "Now print the contents of **OnePage.txt**. Store the contents of the file in a variable called **file_contents**."
      ]
    },
    {
      "cell_type": "code",
      "metadata": {
        "id": "fN2PqynhhrWI",
        "colab_type": "code",
        "colab": {},
        "outputId": "3b2c2fdd-400c-435c-91bf-4ebdacbd5be5"
      },
      "source": [
        ""
      ],
      "execution_count": 0,
      "outputs": [
        {
          "output_type": "stream",
          "text": [
            "Exit\n",
            " HERMIA\n",
            "  [Awaking] Help me, Lysander, help me! do thy best \n",
            "\n",
            "To pluck this crawling serpent from my breast! \n",
            "\n",
            "Ay me, for pity! what a dream was here! \n",
            "\n",
            "Lysander, look how I do quake with fear: \n",
            "\n",
            "Methought a serpent eat my heart away, \n",
            "\n",
            "And you sat smiling at his cruel pray. \n",
            "Lysander! what, removed? Lysander! lord! \n",
            "What, out of hearing? gone? no sound, no word? \n",
            "\n",
            "Alack, where are you speak, an if you hear; \n",
            "\n",
            "Speak, of all loves! I swoon almost with fear. \n",
            "\n",
            "No? then I well perceive you all not nigh \n",
            "\n",
            "Either death or you I'll find immediately. \n",
            "Exit\n",
            " Exit\n",
            " HERMIA\n",
            "  [Awaking] Help me, Lysander, help me! do thy best \n",
            "\n",
            "To pluck this crawling serpent from my breast! \n",
            "\n",
            "Ay me, for pity! what a dream was here! \n",
            "\n",
            "Lysander, look how I do quake with fear: \n",
            "\n",
            "Methought a serpent eat my heart away, \n",
            "\n",
            "And you sat smiling at his cruel pray. \n",
            "Lysander! what, removed? Lysander! lord! \n",
            "What, out of hearing? gone? no sound, no word? \n",
            "\n",
            "Alack, where are you speak, an if you hear; \n",
            "\n",
            "Speak, of all loves! I swoon almost with fear. \n",
            "\n",
            "No? then I well perceive you all not nigh \n",
            "\n",
            "Either death or you I'll find immediately. \n",
            "Exit\n",
            " \n"
          ],
          "name": "stdout"
        }
      ]
    },
    {
      "cell_type": "markdown",
      "metadata": {
        "id": "snaNyXzehrWM",
        "colab_type": "text"
      },
      "source": [
        "### Q10\n",
        "Using the **file_contents** variable above, extract any text that is 5 characters long followed by an exclamation mark."
      ]
    },
    {
      "cell_type": "code",
      "metadata": {
        "id": "QlwRwS4-hrWN",
        "colab_type": "code",
        "colab": {},
        "outputId": "516a3d3e-0a4a-4047-d54e-41fff65fa439"
      },
      "source": [
        ""
      ],
      "execution_count": 0,
      "outputs": [
        {
          "output_type": "execute_result",
          "data": {
            "text/plain": [
              "['reast!',\n",
              " 'ander!',\n",
              " 'ander!',\n",
              " 'loves!',\n",
              " 'reast!',\n",
              " 'ander!',\n",
              " 'ander!',\n",
              " 'loves!']"
            ]
          },
          "metadata": {
            "tags": []
          },
          "execution_count": 11
        }
      ]
    },
    {
      "cell_type": "markdown",
      "metadata": {
        "id": "Vmw2lG9-hrWQ",
        "colab_type": "text"
      },
      "source": [
        "### Save your file to GitHub\n",
        "\n",
        "Create a repo called **AI assessments** and save this assessment file to it.\n",
        "\n",
        "Email a link to your GitHub page to james.connolly@lyit.ie"
      ]
    }
  ]
}